{
  "nbformat": 4,
  "nbformat_minor": 0,
  "metadata": {
    "colab": {
      "provenance": []
    },
    "kernelspec": {
      "name": "python3",
      "display_name": "Python 3"
    },
    "language_info": {
      "name": "python"
    }
  },
  "cells": [
    {
      "cell_type": "markdown",
      "source": [
        "**Завдання 1**"
      ],
      "metadata": {
        "id": "RridS75qhBRi"
      }
    },
    {
      "cell_type": "code",
      "source": [
        "import heapq\n",
        "\n",
        "def min_cost_to_connect_cables(cables):\n",
        "\n",
        "    # Створення мінімальної купи\n",
        "    heapq.heapify(cables)\n",
        "\n",
        "    total_cost = 0  # Загальні витрати\n",
        "    connect_order = []  # Порядок об'єднання кабелів\n",
        "\n",
        "    while len(cables) > 1:\n",
        "        # Витягуємо два найменших кабелі з купи\n",
        "        first = heapq.heappop(cables)\n",
        "        second = heapq.heappop(cables)\n",
        "\n",
        "        # Обчислюємо витрати на з'єднання цих двох кабелів\n",
        "        cost = first + second\n",
        "        total_cost += cost\n",
        "\n",
        "        # Додаємо порядок об'єднання до списку\n",
        "        connect_order.append((first, second, cost))\n",
        "\n",
        "        # Вставляємо новий кабель назад у купу\n",
        "        heapq.heappush(cables, cost)\n",
        "\n",
        "    return total_cost, connect_order\n",
        "\n",
        "# Приклад використання\n",
        "cables = [12, 4, 9, 1, 6]\n",
        "total_cost, connect_order = min_cost_to_connect_cables(cables)\n",
        "print(f\"Мінімальні витрати на з'єднання всіх кабелів: {total_cost}\")\n",
        "print(\"Порядок об'єднання кабелів:\")\n",
        "for pair in connect_order:\n",
        "    print(f\"Об'єднати кабелі {pair[0]} і {pair[1]} для створення кабелю довжиною {pair[2]}\")\n"
      ],
      "metadata": {
        "colab": {
          "base_uri": "https://localhost:8080/"
        },
        "id": "VHBCxOVahC5K",
        "outputId": "cb17bf9f-7ce1-40c5-c6a2-5ec1e09b3d5a"
      },
      "execution_count": 6,
      "outputs": [
        {
          "output_type": "stream",
          "name": "stdout",
          "text": [
            "Мінімальні витрати на з'єднання всіх кабелів: 68\n",
            "Порядок об'єднання кабелів:\n",
            "Об'єднати кабелі 1 і 4 для створення кабелю довжиною 5\n",
            "Об'єднати кабелі 5 і 6 для створення кабелю довжиною 11\n",
            "Об'єднати кабелі 9 і 11 для створення кабелю довжиною 20\n",
            "Об'єднати кабелі 12 і 20 для створення кабелю довжиною 32\n"
          ]
        }
      ]
    },
    {
      "cell_type": "markdown",
      "source": [
        "**Завдання 2**"
      ],
      "metadata": {
        "id": "NZmrIuUjjV7i"
      }
    },
    {
      "cell_type": "code",
      "source": [
        "import heapq\n",
        "\n",
        "def merge_k_lists(lists):\n",
        "    # Створюємо мінімальну купу\n",
        "    min_heap = []\n",
        "\n",
        "    # Вставляємо перші елементи всіх списків у купу\n",
        "    for i in range(len(lists)):\n",
        "        if lists[i]:\n",
        "            heapq.heappush(min_heap, (lists[i][0], i, 0))\n",
        "\n",
        "    merged_list = []\n",
        "\n",
        "    while min_heap:\n",
        "        # Витягуємо найменший елемент з купи\n",
        "        val, list_idx, element_idx = heapq.heappop(min_heap)\n",
        "        merged_list.append(val)\n",
        "\n",
        "        # Додаємо наступний елемент з того ж списку у купу, якщо такий існує\n",
        "        if element_idx + 1 < len(lists[list_idx]):\n",
        "            next_val = lists[list_idx][element_idx + 1]\n",
        "            heapq.heappush(min_heap, (next_val, list_idx, element_idx + 1))\n",
        "\n",
        "    return merged_list\n",
        "\n",
        "# Приклад використання\n",
        "lists = [[1, 4, 5], [1, 3, 4], [2, 6]]\n",
        "merged_list = merge_k_lists(lists)\n",
        "print(\"Посортований список:\", merged_list)\n"
      ],
      "metadata": {
        "colab": {
          "base_uri": "https://localhost:8080/"
        },
        "id": "dIJy78ELjZtX",
        "outputId": "5c00e796-bcdd-49c9-e324-c68d2ee69de3"
      },
      "execution_count": 7,
      "outputs": [
        {
          "output_type": "stream",
          "name": "stdout",
          "text": [
            "Посортований список: [1, 1, 2, 3, 4, 4, 5, 6]\n"
          ]
        }
      ]
    }
  ]
}